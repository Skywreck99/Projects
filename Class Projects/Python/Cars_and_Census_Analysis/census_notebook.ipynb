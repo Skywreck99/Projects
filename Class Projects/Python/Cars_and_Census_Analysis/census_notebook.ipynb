{
 "cells": [
  {
   "cell_type": "code",
   "execution_count": 1,
   "metadata": {},
   "outputs": [],
   "source": [
    "# SKYLAN_RECANA Lab 013 recan001@umn.edu"
   ]
  },
  {
   "cell_type": "code",
   "execution_count": 2,
   "metadata": {},
   "outputs": [],
   "source": [
    "import csv"
   ]
  },
  {
   "cell_type": "code",
   "execution_count": 3,
   "metadata": {},
   "outputs": [
    {
     "data": {
      "text/plain": [
       "'%.3f'"
      ]
     },
     "execution_count": 3,
     "metadata": {},
     "output_type": "execute_result"
    }
   ],
   "source": [
    "%precision 3"
   ]
  },
  {
   "cell_type": "code",
   "execution_count": 4,
   "metadata": {},
   "outputs": [],
   "source": [
    "with open('census.csv') as f:\n",
    "    info = list(csv.DictReader(f))"
   ]
  },
  {
   "cell_type": "markdown",
   "metadata": {},
   "source": [
    "# Task 1\n",
    "##### Purpose - Determine the state that has the fewest state in it\n",
    "##### Output - A single string value"
   ]
  },
  {
   "cell_type": "code",
   "execution_count": 5,
   "metadata": {},
   "outputs": [],
   "source": [
    "def answer1():\n",
    "    \n",
    "    # Make a new dictionary and get all 50 unique states using a set\n",
    "    newdict = dict()\n",
    "    set_state = set(d['STNAME'] for d in info)\n",
    "\n",
    "    # Set a counter in each state in set_state\n",
    "    for name in set_state:\n",
    "        count = 0\n",
    "        \n",
    "        # If the name is the same as the state,\n",
    "        # then count the number of counties within a state\n",
    "        for odict in info:\n",
    "            if name == odict['STNAME']:\n",
    "                count += 1\n",
    "        \n",
    "        # Values obtained from the loop will be placed in the dictionary in their corresponding states\n",
    "        newdict[name] = count\n",
    "    \n",
    "    # Returns the state that has the minimum value of counties using lambda keyword\n",
    "    return min(newdict, key = lambda x: newdict.get(x))"
   ]
  },
  {
   "cell_type": "markdown",
   "metadata": {},
   "source": [
    "# Task 2\n",
    "##### Purpose - Determine the state that has the highest average growth in population due to births from 2010 to 2015\n",
    "##### Output - Return the state and the average growth due to births from 2010 to 2015"
   ]
  },
  {
   "cell_type": "code",
   "execution_count": 6,
   "metadata": {},
   "outputs": [],
   "source": [
    "def answer2():\n",
    "    \n",
    "    # Make a new dictionary and get all 50 unique states using a set\n",
    "    newdict = dict()\n",
    "    set_state = set(d['STNAME'] for d in info)\n",
    "    \n",
    "    # Make counters in every name in the set called set_state\n",
    "    for name in set_state:\n",
    "        overall = 0\n",
    "        count = 0\n",
    "\n",
    "        # If the state is the same as the statename in the ordered dictionary,\n",
    "        # then compute the average growth in every state from 2010 to 2015 \n",
    "        # using count as the total of counties in a state and overall as the total of births from 2010 to 2015\n",
    "        for odict in info:\n",
    "            if name == odict['STNAME']:\n",
    "                total = int(odict['BIRTHS2010']) + int(odict['BIRTHS2011']) + int(odict['BIRTHS2012']) + int(odict['BIRTHS2013']) + int(odict['BIRTHS2014']) + int(odict['BIRTHS2015'])\n",
    "                count += 1\n",
    "                overall += total\n",
    "        \n",
    "        # Put all values in a dicitonary called newdict\n",
    "        newdict[name] = overall / count\n",
    "    \n",
    "    # Find the key that has the highest value in a dictionary,\n",
    "    # then return the name of the state that has the highest average growth \n",
    "    # along with its average growth value\n",
    "    return max(newdict, key = lambda x: newdict.get(x)) + ': ' + str(newdict[min(newdict, key = lambda x: newdict.get(x))])\n",
    "\n",
    "# When expanding newdict, it will return values in three decimal places"
   ]
  },
  {
   "cell_type": "code",
   "execution_count": 7,
   "metadata": {},
   "outputs": [],
   "source": [
    "import pandas as pd"
   ]
  },
  {
   "cell_type": "markdown",
   "metadata": {},
   "source": [
    "# Task 3\n",
    "##### Purpose - Know the top three counties and their states with the largest populations in each region. Also include the populations.\n",
    "##### Output - A DataFrame with Region, State, County, and Population sorted in descending order"
   ]
  },
  {
   "cell_type": "code",
   "execution_count": 8,
   "metadata": {},
   "outputs": [],
   "source": [
    "def answer3():\n",
    "    \n",
    "    # Get all 50 unique states using a set\n",
    "    set_state = set(d['STNAME'] for d in info)\n",
    "    \n",
    "    # Make tuples as elements in a list\n",
    "    # Tuples must contain Region, StateName, CountyName, and 2015 Population\n",
    "    St_Cty_Pop = list((odict['REGION'], odict['STNAME'], odict['CTYNAME'], odict['POPESTIMATE2015']) for odict in info)\n",
    "    \n",
    "    # Put all states in statelist to sort them alphabetically\n",
    "    statelist = list()\n",
    "    for state in set_state:\n",
    "        statelist.append(state)\n",
    "    statelist.sort()\n",
    "\n",
    "    # Create a dictionary and make states as keys \n",
    "    # and set their values as lists\n",
    "    statedict = dict()\n",
    "    for state in statelist:\n",
    "        statedict[state] = list()\n",
    "    \n",
    "    # Get keys from the dictionary using the method .keys()\n",
    "    # and set the keys to be the curr_state for comparison\n",
    "    for e_state in statedict.keys():\n",
    "        curr_state = e_state\n",
    "    \n",
    "        # Compare the curr_state to the state in every tuple\n",
    "        # If they are the same, then append the tuples \n",
    "        # that has the value of curr_state inside\n",
    "        for St in St_Cty_Pop:\n",
    "            if curr_state == St[1]:\n",
    "                statedict[e_state].append(St)\n",
    "                \n",
    "    # In every key in a dictionary, all values must be sort \n",
    "    # according to the number of population in descending order\n",
    "    for e_state in statedict.keys():\n",
    "        for num1 in range(0, len(statedict[e_state])):\n",
    "            for num2 in range(num1, len(statedict[e_state])):          \n",
    "                if int(statedict[e_state][num1][3]) < int(statedict[e_state][num2][3]):\n",
    "                    statedict[e_state][num1], statedict[e_state][num2] = statedict[e_state][num2], statedict[e_state][num1]\n",
    "    \n",
    "    # Every value inside the dictionary must only have\n",
    "    # three or less highest populations in a list\n",
    "    for e_state in statedict.keys():\n",
    "        if len(statedict[e_state]) > 3:\n",
    "            del statedict[e_state][3:]\n",
    "    \n",
    "            \n",
    "    # Make a dictionary to arrange the values in a list \n",
    "    # by setting the values of the dictionary into lists\n",
    "    iter_list = ['1', '2', '3', '4']\n",
    "    reg_dict = dict()\n",
    "    for val in iter_list:\n",
    "        reg_dict[val] = list()\n",
    "    \n",
    "    # If the key in reg_dict is the same as \n",
    "    # the region in tuples in a list of every key of statedict,\n",
    "    # then put all the tuples in reg_dict that corresponds to the given value\n",
    "    for rank in reg_dict.keys():\n",
    "        for state in statedict.keys():\n",
    "            if rank == statedict[state][0][0]:\n",
    "                for element in statedict[state]:\n",
    "                    reg_dict[rank].append(element)\n",
    "    \n",
    "    # Make a biglist where all states will be seen as \n",
    "    # sorted alphabetically and population in descending order in every region\n",
    "    biglist = list()\n",
    "    for num in reg_dict:\n",
    "        biglist += reg_dict[num]\n",
    "\n",
    "    # Make a dataframe where the columns will be the Region, \n",
    "    # the State, the County, and the 2015 Population\n",
    "    data = pd.DataFrame(biglist, columns = ['REGION', 'STATE', 'COUNTY', 'POPULATION_2015'])\n",
    "    \n",
    "    return data\n"
   ]
  },
  {
   "cell_type": "markdown",
   "metadata": {},
   "source": [
    "# Task 4\n",
    "##### Purpose - Calculates the average birth rate and the average death rate from 2010 to 2015 fro each state\n",
    "##### Output - Returns a DataFrame that contains the state name, the average birth rate, and average death rate (index = stat name)"
   ]
  },
  {
   "cell_type": "code",
   "execution_count": 9,
   "metadata": {},
   "outputs": [],
   "source": [
    "def answer4():\n",
    "    \n",
    "    # Get all 50 unique states using a set\n",
    "    set_state = set(d['STNAME'] for d in info)\n",
    "\n",
    "    # Place all states in statelist to sort them alphabetically\n",
    "    statelist = list()\n",
    "    for state in set_state:\n",
    "        statelist.append(state)\n",
    "    statelist.sort()\n",
    "    \n",
    "    # Set the keys of the dictionary statedict to be STATE, AVERAGE BIRTH RATE, and AVERAGE DEATH RATE\n",
    "    # Key STATE has the value statelist, while other keys will have the values as lists as default\n",
    "    statedict = dict()\n",
    "    statedict['STATE'] = statelist\n",
    "    statedict['AVERAGE BIRTH RATE'] = list()\n",
    "    statedict['AVERAGE DEATH RATE'] = list()\n",
    "    \n",
    "    # Creates counters for total birth rate, total death rate,\n",
    "    # and count(for counting the total number of counties)\n",
    "    for state in statelist:\n",
    "        BR = 0\n",
    "        DR = 0\n",
    "        count = 0\n",
    "        \n",
    "        # If the state matches the state name in the ordered dictionary,\n",
    "        # add all the birth rates from 2010 to 2015 and then divide the result by the number of counties in a state\n",
    "        # Same procedure will be used for the death rates of each state\n",
    "        for odict in info:\n",
    "            if state == odict['STNAME']:\n",
    "                count += 1\n",
    "                b = int(odict['BIRTHS2010']) + int(odict['BIRTHS2011']) + int(odict['BIRTHS2012']) + int(odict['BIRTHS2013']) + int(odict['BIRTHS2014']) + int(odict['BIRTHS2015'])\n",
    "                BR += b\n",
    "                d = int(odict['DEATHS2010']) + int(odict['DEATHS2011']) + int(odict['DEATHS2012']) + int(odict['DEATHS2013']) + int(odict['DEATHS2014']) + int(odict['DEATHS2015'])\n",
    "                DR += d\n",
    "        \n",
    "        # Appends all the birth rate values in statedict['AVERAGE BIRTH RATE']\n",
    "        # Appends all the death rate values in statedict['AVERAGE DEATH RATE']\n",
    "        statedict['AVERAGE BIRTH RATE'].append(BR / count)\n",
    "        statedict['AVERAGE DEATH RATE'].append(DR / count)\n",
    "\n",
    "    # Make a DataFrame using the statedict and indices as 'STATE', 'AVERAGE BIRTH RATE', and 'AVERAGE DEATH RATE'\n",
    "    data = pd.DataFrame(statedict)\n",
    "    data = data.set_index(['STATE', 'AVERAGE BIRTH RATE', 'AVERAGE DEATH RATE'])\n",
    "    \n",
    "    return data\n"
   ]
  },
  {
   "cell_type": "markdown",
   "metadata": {},
   "source": [
    "# Task 5\n",
    "##### Purpose - Calculates the ratio between the births and population estimate and also the ratio between the deaths and the population estimate in each year from 2010 to 2015 in each county\n",
    "##### Output - Returns a DataFrame with county, state, birth ratio to population estimate, death ratio to population estimate for each year from 2010 to 2015. State should be the column ordered first."
   ]
  },
  {
   "cell_type": "code",
   "execution_count": 10,
   "metadata": {
    "scrolled": true
   },
   "outputs": [],
   "source": [
    "def answer5():\n",
    "    \n",
    "    # Creates a list of elements to be used as keys later on\n",
    "    mylist = ['STATE', 'COUNTY', \n",
    "              'B/P RATIO 2010', 'B/P RATIO 2011', 'B/P RATIO 2012', 'B/P RATIO 2013', 'B/P RATIO 2014', 'B/P RATIO 2015',\n",
    "              'D/P RATIO 2010', 'D/P RATIO 2011', 'D/P RATIO 2012', 'D/P RATIO 2013', 'D/P RATIO 2014', 'D/P RATIO 2015']\n",
    "    \n",
    "    # All elements in mylist will be used as keys of statedict \n",
    "    # and sets the values as empty lists\n",
    "    statedict = dict()\n",
    "    for element in mylist:\n",
    "        statedict[element] = list()\n",
    "    \n",
    "    # In every iteration in info, append all states in statedict['STATE'],\n",
    "    # append all counties in statedict['COUNTY'], append all birth/population and death/population ratios in each year\n",
    "    # from 2010 to 2015 in their corresponding places in statedict\n",
    "    for odict in info:\n",
    "\n",
    "        statedict['STATE'].append(odict['STNAME'])\n",
    "        statedict['COUNTY'].append(odict['CTYNAME'])\n",
    "\n",
    "        statedict['B/P RATIO 2010'].append(int(odict['BIRTHS2010']) / int(odict['POPESTIMATE2010']))\n",
    "        statedict['B/P RATIO 2011'].append(int(odict['BIRTHS2011']) / int(odict['POPESTIMATE2011']))\n",
    "        statedict['B/P RATIO 2012'].append(int(odict['BIRTHS2012']) / int(odict['POPESTIMATE2012']))\n",
    "        statedict['B/P RATIO 2013'].append(int(odict['BIRTHS2013']) / int(odict['POPESTIMATE2013']))\n",
    "        statedict['B/P RATIO 2014'].append(int(odict['BIRTHS2014']) / int(odict['POPESTIMATE2014']))\n",
    "        statedict['B/P RATIO 2015'].append(int(odict['BIRTHS2015']) / int(odict['POPESTIMATE2015']))\n",
    "\n",
    "        statedict['D/P RATIO 2010'].append(int(odict['DEATHS2010']) / int(odict['POPESTIMATE2010']))\n",
    "        statedict['D/P RATIO 2011'].append(int(odict['DEATHS2011']) / int(odict['POPESTIMATE2011']))\n",
    "        statedict['D/P RATIO 2012'].append(int(odict['DEATHS2012']) / int(odict['POPESTIMATE2012']))\n",
    "        statedict['D/P RATIO 2013'].append(int(odict['DEATHS2013']) / int(odict['POPESTIMATE2013']))\n",
    "        statedict['D/P RATIO 2014'].append(int(odict['DEATHS2014']) / int(odict['POPESTIMATE2014']))\n",
    "        statedict['D/P RATIO 2015'].append(int(odict['DEATHS2015']) / int(odict['POPESTIMATE2015']))\n",
    "\n",
    "    # Creates a DataFrame using statedict and sets the indices using mylist\n",
    "    data = pd.DataFrame(statedict)\n",
    "    data = data.set_index(mylist)\n",
    "    \n",
    "    return data\n"
   ]
  },
  {
   "cell_type": "code",
   "execution_count": null,
   "metadata": {},
   "outputs": [],
   "source": []
  }
 ],
 "metadata": {
  "kernelspec": {
   "display_name": "Python 3",
   "language": "python",
   "name": "python3"
  },
  "language_info": {
   "codemirror_mode": {
    "name": "ipython",
    "version": 3
   },
   "file_extension": ".py",
   "mimetype": "text/x-python",
   "name": "python",
   "nbconvert_exporter": "python",
   "pygments_lexer": "ipython3",
   "version": "3.7.1"
  }
 },
 "nbformat": 4,
 "nbformat_minor": 2
}
